{
 "cells": [
  {
   "cell_type": "markdown",
   "id": "c3c9e2b6-4e85-45a8-8f55-342a54a7a43f",
   "metadata": {},
   "source": [
    "# ptime notebook \n",
    "\n",
    "Run on Casper full node (36 cores)"
   ]
  },
  {
   "cell_type": "code",
   "execution_count": 1,
   "id": "05e2572f-9d7f-4a17-81a0-04db358bd833",
   "metadata": {},
   "outputs": [],
   "source": [
    "%load_ext ptime"
   ]
  },
  {
   "cell_type": "code",
   "execution_count": 2,
   "id": "789dda38-3ccb-48ed-8658-a741771cb5a3",
   "metadata": {},
   "outputs": [
    {
     "data": {
      "text/plain": [
       "'0.18.2'"
      ]
     },
     "execution_count": 2,
     "metadata": {},
     "output_type": "execute_result"
    }
   ],
   "source": [
    "import xarray as xr\n",
    "xr.__version__"
   ]
  },
  {
   "cell_type": "code",
   "execution_count": 3,
   "id": "1afa2aaa-a193-4f1a-8809-68dc4bafe519",
   "metadata": {},
   "outputs": [],
   "source": [
    "#from coiled import performance_report\n",
    "from dask.distributed import performance_report"
   ]
  },
  {
   "cell_type": "code",
   "execution_count": 4,
   "id": "689867dc-a6e4-4ee6-b5d4-6e1a193183ce",
   "metadata": {},
   "outputs": [
    {
     "data": {
      "text/plain": [
       "'2021.06.2'"
      ]
     },
     "execution_count": 4,
     "metadata": {},
     "output_type": "execute_result"
    }
   ],
   "source": [
    "import dask.array as dsa\n",
    "import dask\n",
    "dask.__version__"
   ]
  },
  {
   "cell_type": "code",
   "execution_count": 5,
   "id": "276cf7b3-d432-45a4-8cfa-b8a70310994c",
   "metadata": {},
   "outputs": [
    {
     "data": {
      "text/plain": [
       "'1.18.2'"
      ]
     },
     "execution_count": 5,
     "metadata": {},
     "output_type": "execute_result"
    }
   ],
   "source": [
    "import numpy as np\n",
    "\n",
    "np.__version__"
   ]
  },
  {
   "cell_type": "code",
   "execution_count": 6,
   "id": "3f5cf399-151a-487e-a83b-b9b966923d4f",
   "metadata": {},
   "outputs": [
    {
     "data": {
      "text/plain": [
       "'0.1'"
      ]
     },
     "execution_count": 6,
     "metadata": {},
     "output_type": "execute_result"
    }
   ],
   "source": [
    "import gcm_filters as gf\n",
    "gf.__version__"
   ]
  },
  {
   "cell_type": "code",
   "execution_count": 7,
   "id": "cc70f703-04a3-4d31-a331-383d339b39f2",
   "metadata": {},
   "outputs": [
    {
     "name": "stdout",
     "output_type": "stream",
     "text": [
      "CPU times: user 4.02 s, sys: 2.43 s, total: 6.45 s\n",
      "Wall time: 6.45 s\n"
     ]
    },
    {
     "data": {
      "text/plain": [
       "array([[[2.61996282, 2.06146906, 2.40964292, ..., 1.60272225,\n",
       "         2.67882899, 2.80266536],\n",
       "        [1.32348429, 2.36529716, 1.73208699, ..., 1.9751919 ,\n",
       "         2.00222161, 2.07322426],\n",
       "        [0.8567913 , 0.84700807, 1.40015579, ..., 2.34154379,\n",
       "         2.23924865, 1.95348018],\n",
       "        ...,\n",
       "        [1.38697224, 1.34732929, 1.45248767, ..., 0.43835488,\n",
       "         2.25182984, 1.41219787],\n",
       "        [1.6227557 , 1.55659304, 1.3098509 , ..., 0.83885408,\n",
       "         2.11022131, 2.46540641],\n",
       "        [1.86185938, 1.08980313, 1.55779416, ..., 1.29549619,\n",
       "         2.01387059, 2.29407065]],\n",
       "\n",
       "       [[1.65170925, 1.60320078, 2.3416586 , ..., 0.86808774,\n",
       "         2.34922244, 1.60825505],\n",
       "        [1.69808049, 1.60367647, 1.63129985, ..., 1.57805553,\n",
       "         1.80355814, 1.86515566],\n",
       "        [0.60390745, 1.06168645, 1.48326961, ..., 1.50293806,\n",
       "         1.6142209 , 1.70651294],\n",
       "        ...,\n",
       "        [0.62231405, 1.46568528, 1.57686707, ..., 0.31271431,\n",
       "         1.4282604 , 1.08808882],\n",
       "        [1.37350877, 1.63589296, 1.51960362, ..., 0.26856615,\n",
       "         1.37486222, 1.72414524],\n",
       "        [1.42359583, 1.72721395, 1.73441429, ..., 0.98992335,\n",
       "         1.48770148, 1.51186201]],\n",
       "\n",
       "       [[1.40213105, 1.18936852, 2.07992223, ..., 1.04391818,\n",
       "         2.18525767, 1.84273642],\n",
       "        [1.34303964, 1.3005454 , 1.33164763, ..., 1.6554326 ,\n",
       "         1.82456578, 2.00790535],\n",
       "        [0.95611846, 1.25028007, 1.19966083, ..., 1.56560782,\n",
       "         1.89802161, 1.72773199],\n",
       "        ...,\n",
       "        [0.74274821, 1.60966733, 1.5624233 , ..., 0.47986171,\n",
       "         1.60177139, 1.43527871],\n",
       "        [1.21176389, 1.10306825, 1.09251294, ..., 0.22521371,\n",
       "         1.4687638 , 1.85010189],\n",
       "        [2.17158349, 1.53911347, 1.14032779, ..., 0.99183623,\n",
       "         1.54616349, 1.88325338]],\n",
       "\n",
       "       ...,\n",
       "\n",
       "       [[2.06270157, 1.5019608 , 2.15760073, ..., 0.95438619,\n",
       "         2.43072205, 2.59302821],\n",
       "        [1.19984354, 1.51893305, 1.46128704, ..., 1.29952584,\n",
       "         1.63890352, 1.92688929],\n",
       "        [1.50304652, 1.03149903, 1.21282918, ..., 1.71025032,\n",
       "         1.51317253, 1.43909906],\n",
       "        ...,\n",
       "        [1.28040171, 1.52666605, 1.28897864, ..., 0.5589611 ,\n",
       "         1.71707437, 1.75250973],\n",
       "        [1.14371902, 1.48213131, 1.08095785, ..., 0.74172833,\n",
       "         1.61442872, 1.70953484],\n",
       "        [2.23090016, 1.23895705, 1.36534377, ..., 1.41067271,\n",
       "         1.90203595, 2.33330757]],\n",
       "\n",
       "       [[2.16362016, 1.7247191 , 2.49297324, ..., 0.80776705,\n",
       "         2.14742571, 1.83464783],\n",
       "        [1.53330519, 1.4689966 , 1.79194839, ..., 1.78873149,\n",
       "         1.80488305, 2.11543666],\n",
       "        [1.28845707, 1.063913  , 1.48787738, ..., 2.12853892,\n",
       "         1.82028998, 1.08870795],\n",
       "        ...,\n",
       "        [0.7004367 , 2.02819976, 1.83475221, ..., 0.49274449,\n",
       "         1.91569463, 1.06726974],\n",
       "        [1.36718492, 1.28442901, 1.59366445, ..., 0.8023251 ,\n",
       "         1.78248516, 1.9104547 ],\n",
       "        [1.84392051, 1.46388618, 1.42953501, ..., 1.32115409,\n",
       "         1.74902303, 1.84429261]],\n",
       "\n",
       "       [[1.71159035, 1.34289718, 2.19654331, ..., 1.29030877,\n",
       "         2.23571096, 1.89845768],\n",
       "        [1.72269601, 1.49246623, 1.71822345, ..., 2.04440778,\n",
       "         1.94064907, 2.0060479 ],\n",
       "        [1.26288884, 1.05510516, 1.52853235, ..., 1.98947955,\n",
       "         1.8990366 , 1.75798451],\n",
       "        ...,\n",
       "        [0.83198816, 1.93803129, 1.72182549, ..., 0.96614064,\n",
       "         1.72643774, 1.73479861],\n",
       "        [1.24403164, 1.68533999, 1.26376069, ..., 0.64814727,\n",
       "         1.70526609, 1.9440184 ],\n",
       "        [1.84391696, 1.163853  , 1.76098987, ..., 1.49208036,\n",
       "         1.78707835, 1.91486505]]])"
      ]
     },
     "execution_count": 7,
     "metadata": {},
     "output_type": "execute_result"
    }
   ],
   "source": [
    "shape = (160, 1024, 1024)\n",
    "chunks = (10, 1024, 1024)\n",
    "\n",
    "\n",
    "nt, ny, nx = shape\n",
    "da = xr.DataArray(dsa.random.random(shape, chunks=chunks), dims=['time', 'y', 'x'])\n",
    "mask_data = dsa.ones((ny, nx))\n",
    "mask_data[(ny // 4):(3 * ny // 4), (nx // 4):(3 * nx // 4)] = 0\n",
    "wet_mask = xr.DataArray(mask_data, dims=['y', 'x'])\n",
    "\n",
    "da_masked = da.where(wet_mask)\n",
    "\n",
    "filter = gf.Filter(\n",
    "    filter_scale=4,\n",
    "    dx_min=1,\n",
    "    filter_shape=gf.FilterShape.TAPER,\n",
    "    grid_type=gf.GridType.REGULAR_WITH_LAND,\n",
    "    grid_vars={'wet_mask': wet_mask}\n",
    ")\n",
    "\n",
    "da_filtered = filter.apply(da_masked, dims=['y', 'x'])\n",
    "filter\n",
    "\n",
    "filter_func = gf.filter._create_filter_func(filter.filter_spec, filter.Laplacian)\n",
    "\n",
    "data = np.random.rand(10, 1024, 1024)\n",
    "data_mask = np.random.rand(1, 1024, 1024)\n",
    "\n",
    "%time filter_func(data, data_mask)"
   ]
  },
  {
   "cell_type": "code",
   "execution_count": 8,
   "id": "a664cd45-5e50-4c75-bb8d-99d7c4f9bc60",
   "metadata": {},
   "outputs": [
    {
     "name": "stdout",
     "output_type": "stream",
     "text": [
      "Total serial time:   12.88 s\n",
      "Total parallel time: 6.63 s\n",
      "For a 1.94X speedup across 2 threads\n"
     ]
    }
   ],
   "source": [
    "%ptime filter_func(data, data_mask)"
   ]
  },
  {
   "cell_type": "code",
   "execution_count": null,
   "id": "c5f52f7b-cbe4-4eee-87c3-f575d42a9932",
   "metadata": {},
   "outputs": [],
   "source": []
  }
 ],
 "metadata": {
  "kernelspec": {
   "display_name": "NPL3 (my_npl_clone)",
   "language": "python",
   "name": "npl3-my_npl_clone"
  },
  "language_info": {
   "codemirror_mode": {
    "name": "ipython",
    "version": 3
   },
   "file_extension": ".py",
   "mimetype": "text/x-python",
   "name": "python",
   "nbconvert_exporter": "python",
   "pygments_lexer": "ipython3",
   "version": "3.7.5"
  }
 },
 "nbformat": 4,
 "nbformat_minor": 5
}
