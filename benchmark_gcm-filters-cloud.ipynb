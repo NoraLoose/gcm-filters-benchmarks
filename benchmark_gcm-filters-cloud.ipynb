{
 "cells": [
  {
   "cell_type": "markdown",
   "id": "c3c9e2b6-4e85-45a8-8f55-342a54a7a43f",
   "metadata": {},
   "source": [
    "# GCM Filters Scaling Benchmark\n",
    "\n",
    "Run on Casper full node (36 cores)"
   ]
  },
  {
   "cell_type": "code",
   "execution_count": 1,
   "id": "789dda38-3ccb-48ed-8658-a741771cb5a3",
   "metadata": {},
   "outputs": [
    {
     "data": {
      "text/plain": [
       "'0.17.0'"
      ]
     },
     "execution_count": 1,
     "metadata": {},
     "output_type": "execute_result"
    }
   ],
   "source": [
    "import xarray as xr\n",
    "xr.__version__"
   ]
  },
  {
   "cell_type": "code",
   "execution_count": 2,
   "id": "1afa2aaa-a193-4f1a-8809-68dc4bafe519",
   "metadata": {},
   "outputs": [],
   "source": [
    "#from coiled import performance_report\n",
    "from dask.distributed import performance_report"
   ]
  },
  {
   "cell_type": "code",
   "execution_count": 3,
   "id": "689867dc-a6e4-4ee6-b5d4-6e1a193183ce",
   "metadata": {},
   "outputs": [
    {
     "data": {
      "text/plain": [
       "'2021.04.1'"
      ]
     },
     "execution_count": 3,
     "metadata": {},
     "output_type": "execute_result"
    }
   ],
   "source": [
    "import dask\n",
    "dask.__version__"
   ]
  },
  {
   "cell_type": "code",
   "execution_count": 4,
   "id": "276cf7b3-d432-45a4-8cfa-b8a70310994c",
   "metadata": {},
   "outputs": [
    {
     "data": {
      "text/plain": [
       "'1.20.2'"
      ]
     },
     "execution_count": 4,
     "metadata": {},
     "output_type": "execute_result"
    }
   ],
   "source": [
    "import numpy as np\n",
    "np.__version__"
   ]
  },
  {
   "cell_type": "code",
   "execution_count": 5,
   "id": "d96eb689-dc09-4f44-ab13-074a803724ad",
   "metadata": {},
   "outputs": [],
   "source": [
    "import dask.array as dsa"
   ]
  },
  {
   "cell_type": "code",
   "execution_count": 6,
   "id": "e0a7d073-c150-427b-b70d-849f1749506d",
   "metadata": {},
   "outputs": [
    {
     "data": {
      "text/plain": [
       "'0.1'"
      ]
     },
     "execution_count": 6,
     "metadata": {},
     "output_type": "execute_result"
    }
   ],
   "source": [
    "import gcm_filters as gf\n",
    "gf.__version__"
   ]
  },
  {
   "cell_type": "code",
   "execution_count": 7,
   "id": "6d8267db-a143-4381-950a-be5bf506de1c",
   "metadata": {},
   "outputs": [],
   "source": [
    "from contextlib import contextmanager\n",
    "import time\n",
    "import pandas as pd\n",
    "\n",
    "class DiagnosticTimer:\n",
    "    def __init__(self):\n",
    "        self.diagnostics = []\n",
    "\n",
    "    @contextmanager\n",
    "    def time(self, **kwargs):\n",
    "        tic = time.time()\n",
    "        yield\n",
    "        toc = time.time()\n",
    "        kwargs[\"runtime\"] = toc - tic\n",
    "        self.diagnostics.append(kwargs)\n",
    "\n",
    "    @property\n",
    "    def df(self):\n",
    "        return pd.DataFrame(self.diagnostics)"
   ]
  },
  {
   "cell_type": "code",
   "execution_count": 8,
   "id": "16a92dfc-fc2e-4894-b1b1-895cc67af353",
   "metadata": {},
   "outputs": [],
   "source": [
    "def make_data(shape, chunks, gpu=False):\n",
    "    nt, ny, nx = shape\n",
    "    da = xr.DataArray(dsa.random.random(shape, chunks=chunks), dims=['time', 'y', 'x'])\n",
    "    mask_data = dsa.ones((ny, nx))\n",
    "    mask_data[(ny // 4):(3 * ny // 4), (nx // 4):(3 * nx // 4)] = 0\n",
    "    wet_mask = xr.DataArray(mask_data, dims=['y', 'x'])\n",
    "    \n",
    "    da_masked = da.where(wet_mask)\n",
    "    \n",
    "    if gpu:\n",
    "        raise NotImplementedError(\"Can't get cupy working :(\")\n",
    "\n",
    "    filter = gf.Filter(\n",
    "        filter_scale=4,\n",
    "        dx_min=1,\n",
    "        filter_shape=gf.FilterShape.TAPER,\n",
    "        grid_type=gf.GridType.REGULAR_WITH_LAND,\n",
    "        grid_vars={'wet_mask': wet_mask}\n",
    "    )\n",
    "    filter\n",
    "\n",
    "    da_filtered = filter.apply(da_masked, dims=['y', 'x'])\n",
    "    return da_masked, da_filtered"
   ]
  },
  {
   "cell_type": "code",
   "execution_count": 9,
   "id": "8c594e24-9cbd-4517-a4f1-f992c8108675",
   "metadata": {},
   "outputs": [],
   "source": [
    "from dask.distributed import Client, LocalCluster"
   ]
  },
  {
   "cell_type": "code",
   "execution_count": 9,
   "id": "9bed92a9-79a7-44c2-9bef-8d07633d2424",
   "metadata": {},
   "outputs": [],
   "source": [
    "import subprocess\n",
    "import logging\n",
    "from distributed import WorkerPlugin\n",
    "\n",
    "class PipPlugin(WorkerPlugin):\n",
    "    \"\"\"\n",
    "    Install packages on a worker as it starts up.\n",
    "\n",
    "    Parameters\n",
    "    ----------\n",
    "    packages : List[str]\n",
    "        A list of packages to install with pip on startup.\n",
    "    \"\"\"\n",
    "    def __init__(self, packages):\n",
    "        self.packages = packages\n",
    "\n",
    "    def setup(self, worker):\n",
    "        logger = logging.getLogger(\"distributed.worker\")\n",
    "        subprocess.call(['python', '-m', 'pip', 'install', '--upgrade'] + self.packages)\n",
    "        logger.info(\"Installed %s\", self.packages)"
   ]
  },
  {
   "cell_type": "code",
   "execution_count": 10,
   "id": "9eebc755-8577-4152-9cc3-300e89e49b34",
   "metadata": {},
   "outputs": [
    {
     "data": {
      "text/plain": [
       "{}"
      ]
     },
     "execution_count": 10,
     "metadata": {},
     "output_type": "execute_result"
    }
   ],
   "source": [
    "from dask_gateway import Gateway\n",
    "gateway = Gateway()\n",
    "cluster = gateway.new_cluster()\n",
    "client = cluster.get_client()\n",
    "\n",
    "# Now create and register the plugin. We'll install 'bulwark'\n",
    "plugin = PipPlugin(['gcm-filters'])\n",
    "client.register_worker_plugin(plugin)"
   ]
  },
  {
   "cell_type": "code",
   "execution_count": 11,
   "id": "c0fdaf74-1b21-4576-a873-2969994e42ba",
   "metadata": {},
   "outputs": [
    {
     "data": {
      "application/vnd.jupyter.widget-view+json": {
       "model_id": "315723a8505f4232923b1de589e3b3f0",
       "version_major": 2,
       "version_minor": 0
      },
      "text/plain": [
       "VBox(children=(HTML(value='<h2>GatewayCluster</h2>'), HBox(children=(HTML(value='\\n<div>\\n<style scoped>\\n    …"
      ]
     },
     "metadata": {},
     "output_type": "display_data"
    }
   ],
   "source": [
    "cluster"
   ]
  },
  {
   "cell_type": "code",
   "execution_count": 20,
   "id": "836dc719-85ad-4521-a915-365c710145e7",
   "metadata": {},
   "outputs": [
    {
     "name": "stdout",
     "output_type": "stream",
     "text": [
      "         operation  ncores  nworkers             shape           chunks  \\\n",
      "0  unfiltered_mean       2         1  (40, 1024, 1024)  (2, 1024, 1024)   \n",
      "1    filtered_mean       2         1  (40, 1024, 1024)  (2, 1024, 1024)   \n",
      "\n",
      "      nbytes    dtype    runtime  \n",
      "0  335544320  float64   0.515410  \n",
      "1  335544320  float64  17.958028  \n",
      "         operation  ncores  nworkers              shape           chunks  \\\n",
      "2  unfiltered_mean       8         4  (160, 1024, 1024)  (2, 1024, 1024)   \n",
      "3    filtered_mean       8         4  (160, 1024, 1024)  (2, 1024, 1024)   \n",
      "\n",
      "       nbytes    dtype    runtime  \n",
      "2  1342177280  float64   7.902542  \n",
      "3  1342177280  float64  25.111938  \n",
      "         operation  ncores  nworkers              shape           chunks  \\\n",
      "4  unfiltered_mean      16         8  (320, 1024, 1024)  (2, 1024, 1024)   \n",
      "5    filtered_mean      16         8  (320, 1024, 1024)  (2, 1024, 1024)   \n",
      "\n",
      "       nbytes    dtype    runtime  \n",
      "4  2684354560  float64   8.220016  \n",
      "5  2684354560  float64  24.828593  \n",
      "         operation  ncores  nworkers              shape           chunks  \\\n",
      "6  unfiltered_mean      24        12  (480, 1024, 1024)  (2, 1024, 1024)   \n",
      "7    filtered_mean      24        12  (480, 1024, 1024)  (2, 1024, 1024)   \n",
      "\n",
      "       nbytes    dtype    runtime  \n",
      "6  4026531840  float64   7.515578  \n",
      "7  4026531840  float64  22.944978  \n",
      "         operation  ncores  nworkers              shape           chunks  \\\n",
      "8  unfiltered_mean      32        16  (640, 1024, 1024)  (2, 1024, 1024)   \n",
      "9    filtered_mean      32        16  (640, 1024, 1024)  (2, 1024, 1024)   \n",
      "\n",
      "       nbytes    dtype    runtime  \n",
      "8  5368709120  float64   7.452733  \n",
      "9  5368709120  float64  24.823748  \n",
      "          operation  ncores  nworkers              shape           chunks  \\\n",
      "10  unfiltered_mean      40        20  (800, 1024, 1024)  (2, 1024, 1024)   \n",
      "11    filtered_mean      40        20  (800, 1024, 1024)  (2, 1024, 1024)   \n",
      "\n",
      "        nbytes    dtype    runtime  \n",
      "10  6710886400  float64   7.486150  \n",
      "11  6710886400  float64  25.138644  \n"
     ]
    }
   ],
   "source": [
    "# weak scaling - problem size scales with number of cores\n",
    "\n",
    "diag_timer_weak = DiagnosticTimer()\n",
    "max_workers = 20\n",
    "worker_step = 4\n",
    "for nworkers in [1] + list(range(worker_step, max_workers + 1, worker_step)):\n",
    "    cluster.scale(nworkers)\n",
    "    client.wait_for_workers(nworkers)\n",
    "    assert len(client.ncores()) == nworkers\n",
    "    ncores = sum(client.ncores().values())\n",
    "\n",
    "    shape = ncores * 20, 1024, 1024\n",
    "    chunks = (2,) + shape[1:]\n",
    "    unfiltered, filtered = make_data(shape, chunks)\n",
    "\n",
    "    details = dict(ncores=ncores, nworkers=nworkers, shape=shape, chunks=chunks,\n",
    "                   nbytes=filtered.data.nbytes, dtype=str(filtered.dtype))\n",
    "    with diag_timer_weak.time(operation='unfiltered_mean', **details):\n",
    "        unfiltered.data.mean().compute()\n",
    "    with diag_timer_weak.time(operation='filtered_mean', **details):\n",
    "        filtered.data.mean().compute()\n",
    "    print(diag_timer_weak.df.iloc[-2:])"
   ]
  },
  {
   "cell_type": "code",
   "execution_count": 21,
   "id": "d4e940ed-8242-4a97-80d3-4df90cdf25b0",
   "metadata": {},
   "outputs": [],
   "source": [
    "from datetime import datetime\n",
    "\n",
    "now = datetime.now().isoformat()[:19]\n",
    "diag_timer_weak.df.to_csv(f'data/scaling_weak_cloud_cpu_{now}.csv', index=False)"
   ]
  },
  {
   "cell_type": "code",
   "execution_count": null,
   "id": "9a02b611-bb6c-4d5d-ba68-2a91f7f4a0c0",
   "metadata": {},
   "outputs": [],
   "source": []
  }
 ],
 "metadata": {
  "kernelspec": {
   "display_name": "Python 3",
   "language": "python",
   "name": "python3"
  },
  "language_info": {
   "codemirror_mode": {
    "name": "ipython",
    "version": 3
   },
   "file_extension": ".py",
   "mimetype": "text/x-python",
   "name": "python",
   "nbconvert_exporter": "python",
   "pygments_lexer": "ipython3",
   "version": "3.8.8"
  }
 },
 "nbformat": 4,
 "nbformat_minor": 5
}
