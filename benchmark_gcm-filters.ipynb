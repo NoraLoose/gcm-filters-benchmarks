{
 "cells": [
  {
   "cell_type": "markdown",
   "id": "c3c9e2b6-4e85-45a8-8f55-342a54a7a43f",
   "metadata": {},
   "source": [
    "# GCM Filters Scaling Benchmark\n",
    "\n",
    "Run on Casper full node (36 cores)"
   ]
  },
  {
   "cell_type": "code",
   "execution_count": 1,
   "id": "789dda38-3ccb-48ed-8658-a741771cb5a3",
   "metadata": {},
   "outputs": [
    {
     "data": {
      "text/plain": [
       "'0.18.2'"
      ]
     },
     "execution_count": 1,
     "metadata": {},
     "output_type": "execute_result"
    }
   ],
   "source": [
    "import xarray as xr\n",
    "xr.__version__"
   ]
  },
  {
   "cell_type": "code",
   "execution_count": 2,
   "id": "689867dc-a6e4-4ee6-b5d4-6e1a193183ce",
   "metadata": {},
   "outputs": [
    {
     "data": {
      "text/plain": [
       "'2021.05.1'"
      ]
     },
     "execution_count": 2,
     "metadata": {},
     "output_type": "execute_result"
    }
   ],
   "source": [
    "import dask\n",
    "dask.__version__"
   ]
  },
  {
   "cell_type": "code",
   "execution_count": 3,
   "id": "276cf7b3-d432-45a4-8cfa-b8a70310994c",
   "metadata": {},
   "outputs": [
    {
     "data": {
      "text/plain": [
       "'1.18.2'"
      ]
     },
     "execution_count": 3,
     "metadata": {},
     "output_type": "execute_result"
    }
   ],
   "source": [
    "import numpy as np\n",
    "np.__version__"
   ]
  },
  {
   "cell_type": "code",
   "execution_count": 4,
   "id": "e24e9b99-0af2-478b-b3a3-a7a1dcc43c4c",
   "metadata": {},
   "outputs": [
    {
     "ename": "ImportError",
     "evalue": "CuPy is not correctly installed.\n\nIf you are using wheel distribution (cupy-cudaXX), make sure that the version of CuPy you installed matches with the version of CUDA on your host.\nAlso, confirm that only one CuPy package is installed:\n  $ pip freeze\n\nIf you are building CuPy from source, please check your environment, uninstall CuPy and reinstall it with:\n  $ pip install cupy --no-cache-dir -vvvv\n\nCheck the Installation Guide for details:\n  https://docs-cupy.chainer.org/en/latest/install.html\n\noriginal error: libcublas.so.10: cannot open shared object file: No such file or directory",
     "output_type": "error",
     "traceback": [
      "\u001b[0;31m---------------------------------------------------------------------------\u001b[0m",
      "\u001b[0;31mImportError\u001b[0m                               Traceback (most recent call last)",
      "\u001b[0;32m/glade/work/rpa/my_npl_clone/lib/python3.7/site-packages/cupy/__init__.py\u001b[0m in \u001b[0;36m<module>\u001b[0;34m\u001b[0m\n\u001b[1;32m     20\u001b[0m                                 message='can\\'t resolve package from __spec__')\n\u001b[0;32m---> 21\u001b[0;31m         \u001b[0;32mfrom\u001b[0m \u001b[0mcupy\u001b[0m \u001b[0;32mimport\u001b[0m \u001b[0mcore\u001b[0m  \u001b[0;31m# NOQA\u001b[0m\u001b[0;34m\u001b[0m\u001b[0;34m\u001b[0m\u001b[0m\n\u001b[0m\u001b[1;32m     22\u001b[0m \u001b[0;32mexcept\u001b[0m \u001b[0mImportError\u001b[0m\u001b[0;34m:\u001b[0m\u001b[0;34m\u001b[0m\u001b[0;34m\u001b[0m\u001b[0m\n",
      "\u001b[0;32m/glade/work/rpa/my_npl_clone/lib/python3.7/site-packages/cupy/core/__init__.py\u001b[0m in \u001b[0;36m<module>\u001b[0;34m\u001b[0m\n\u001b[0;32m----> 1\u001b[0;31m \u001b[0;32mfrom\u001b[0m \u001b[0mcupy\u001b[0m\u001b[0;34m.\u001b[0m\u001b[0mcore\u001b[0m \u001b[0;32mimport\u001b[0m \u001b[0mcore\u001b[0m  \u001b[0;31m# NOQA\u001b[0m\u001b[0;34m\u001b[0m\u001b[0;34m\u001b[0m\u001b[0m\n\u001b[0m\u001b[1;32m      2\u001b[0m \u001b[0;32mfrom\u001b[0m \u001b[0mcupy\u001b[0m\u001b[0;34m.\u001b[0m\u001b[0mcore\u001b[0m \u001b[0;32mimport\u001b[0m \u001b[0minternal\u001b[0m  \u001b[0;31m# NOQA\u001b[0m\u001b[0;34m\u001b[0m\u001b[0;34m\u001b[0m\u001b[0m\n\u001b[1;32m      3\u001b[0m \u001b[0;34m\u001b[0m\u001b[0m\n",
      "\u001b[0;31mImportError\u001b[0m: libcublas.so.10: cannot open shared object file: No such file or directory",
      "\nDuring handling of the above exception, another exception occurred:\n",
      "\u001b[0;31mImportError\u001b[0m                               Traceback (most recent call last)",
      "\u001b[0;32m<ipython-input-4-9ffcf30d9aea>\u001b[0m in \u001b[0;36m<module>\u001b[0;34m\u001b[0m\n\u001b[0;32m----> 1\u001b[0;31m \u001b[0;32mimport\u001b[0m \u001b[0mcupy\u001b[0m \u001b[0;32mas\u001b[0m \u001b[0mcp\u001b[0m\u001b[0;34m\u001b[0m\u001b[0;34m\u001b[0m\u001b[0m\n\u001b[0m\u001b[1;32m      2\u001b[0m \u001b[0mcp\u001b[0m\u001b[0;34m.\u001b[0m\u001b[0m__version__\u001b[0m\u001b[0;34m\u001b[0m\u001b[0;34m\u001b[0m\u001b[0m\n",
      "\u001b[0;32m/glade/work/rpa/my_npl_clone/lib/python3.7/site-packages/cupy/__init__.py\u001b[0m in \u001b[0;36m<module>\u001b[0;34m\u001b[0m\n\u001b[1;32m     40\u001b[0m original error: {}'''.format(exc_info[1]))  # NOQA\n\u001b[1;32m     41\u001b[0m \u001b[0;34m\u001b[0m\u001b[0m\n\u001b[0;32m---> 42\u001b[0;31m     \u001b[0msix\u001b[0m\u001b[0;34m.\u001b[0m\u001b[0mreraise\u001b[0m\u001b[0;34m(\u001b[0m\u001b[0mImportError\u001b[0m\u001b[0;34m,\u001b[0m \u001b[0mImportError\u001b[0m\u001b[0;34m(\u001b[0m\u001b[0mmsg\u001b[0m\u001b[0;34m)\u001b[0m\u001b[0;34m,\u001b[0m \u001b[0mexc_info\u001b[0m\u001b[0;34m[\u001b[0m\u001b[0;36m2\u001b[0m\u001b[0;34m]\u001b[0m\u001b[0;34m)\u001b[0m\u001b[0;34m\u001b[0m\u001b[0;34m\u001b[0m\u001b[0m\n\u001b[0m\u001b[1;32m     43\u001b[0m \u001b[0;34m\u001b[0m\u001b[0m\n\u001b[1;32m     44\u001b[0m \u001b[0;34m\u001b[0m\u001b[0m\n",
      "\u001b[0;32m/glade/work/rpa/my_npl_clone/lib/python3.7/site-packages/six.py\u001b[0m in \u001b[0;36mreraise\u001b[0;34m(tp, value, tb)\u001b[0m\n\u001b[1;32m    700\u001b[0m                 \u001b[0mvalue\u001b[0m \u001b[0;34m=\u001b[0m \u001b[0mtp\u001b[0m\u001b[0;34m(\u001b[0m\u001b[0;34m)\u001b[0m\u001b[0;34m\u001b[0m\u001b[0;34m\u001b[0m\u001b[0m\n\u001b[1;32m    701\u001b[0m             \u001b[0;32mif\u001b[0m \u001b[0mvalue\u001b[0m\u001b[0;34m.\u001b[0m\u001b[0m__traceback__\u001b[0m \u001b[0;32mis\u001b[0m \u001b[0;32mnot\u001b[0m \u001b[0mtb\u001b[0m\u001b[0;34m:\u001b[0m\u001b[0;34m\u001b[0m\u001b[0;34m\u001b[0m\u001b[0m\n\u001b[0;32m--> 702\u001b[0;31m                 \u001b[0;32mraise\u001b[0m \u001b[0mvalue\u001b[0m\u001b[0;34m.\u001b[0m\u001b[0mwith_traceback\u001b[0m\u001b[0;34m(\u001b[0m\u001b[0mtb\u001b[0m\u001b[0;34m)\u001b[0m\u001b[0;34m\u001b[0m\u001b[0;34m\u001b[0m\u001b[0m\n\u001b[0m\u001b[1;32m    703\u001b[0m             \u001b[0;32mraise\u001b[0m \u001b[0mvalue\u001b[0m\u001b[0;34m\u001b[0m\u001b[0;34m\u001b[0m\u001b[0m\n\u001b[1;32m    704\u001b[0m         \u001b[0;32mfinally\u001b[0m\u001b[0;34m:\u001b[0m\u001b[0;34m\u001b[0m\u001b[0;34m\u001b[0m\u001b[0m\n",
      "\u001b[0;32m/glade/work/rpa/my_npl_clone/lib/python3.7/site-packages/cupy/__init__.py\u001b[0m in \u001b[0;36m<module>\u001b[0;34m\u001b[0m\n\u001b[1;32m     19\u001b[0m         warnings.filterwarnings('ignore', category=ImportWarning,\n\u001b[1;32m     20\u001b[0m                                 message='can\\'t resolve package from __spec__')\n\u001b[0;32m---> 21\u001b[0;31m         \u001b[0;32mfrom\u001b[0m \u001b[0mcupy\u001b[0m \u001b[0;32mimport\u001b[0m \u001b[0mcore\u001b[0m  \u001b[0;31m# NOQA\u001b[0m\u001b[0;34m\u001b[0m\u001b[0;34m\u001b[0m\u001b[0m\n\u001b[0m\u001b[1;32m     22\u001b[0m \u001b[0;32mexcept\u001b[0m \u001b[0mImportError\u001b[0m\u001b[0;34m:\u001b[0m\u001b[0;34m\u001b[0m\u001b[0;34m\u001b[0m\u001b[0m\n\u001b[1;32m     23\u001b[0m     \u001b[0;31m# core is a c-extension module.\u001b[0m\u001b[0;34m\u001b[0m\u001b[0;34m\u001b[0m\u001b[0;34m\u001b[0m\u001b[0m\n",
      "\u001b[0;32m/glade/work/rpa/my_npl_clone/lib/python3.7/site-packages/cupy/core/__init__.py\u001b[0m in \u001b[0;36m<module>\u001b[0;34m\u001b[0m\n\u001b[0;32m----> 1\u001b[0;31m \u001b[0;32mfrom\u001b[0m \u001b[0mcupy\u001b[0m\u001b[0;34m.\u001b[0m\u001b[0mcore\u001b[0m \u001b[0;32mimport\u001b[0m \u001b[0mcore\u001b[0m  \u001b[0;31m# NOQA\u001b[0m\u001b[0;34m\u001b[0m\u001b[0;34m\u001b[0m\u001b[0m\n\u001b[0m\u001b[1;32m      2\u001b[0m \u001b[0;32mfrom\u001b[0m \u001b[0mcupy\u001b[0m\u001b[0;34m.\u001b[0m\u001b[0mcore\u001b[0m \u001b[0;32mimport\u001b[0m \u001b[0minternal\u001b[0m  \u001b[0;31m# NOQA\u001b[0m\u001b[0;34m\u001b[0m\u001b[0;34m\u001b[0m\u001b[0m\n\u001b[1;32m      3\u001b[0m \u001b[0;34m\u001b[0m\u001b[0m\n\u001b[1;32m      4\u001b[0m \u001b[0;34m\u001b[0m\u001b[0m\n\u001b[1;32m      5\u001b[0m \u001b[0;31m# import class and function\u001b[0m\u001b[0;34m\u001b[0m\u001b[0;34m\u001b[0m\u001b[0;34m\u001b[0m\u001b[0m\n",
      "\u001b[0;31mImportError\u001b[0m: CuPy is not correctly installed.\n\nIf you are using wheel distribution (cupy-cudaXX), make sure that the version of CuPy you installed matches with the version of CUDA on your host.\nAlso, confirm that only one CuPy package is installed:\n  $ pip freeze\n\nIf you are building CuPy from source, please check your environment, uninstall CuPy and reinstall it with:\n  $ pip install cupy --no-cache-dir -vvvv\n\nCheck the Installation Guide for details:\n  https://docs-cupy.chainer.org/en/latest/install.html\n\noriginal error: libcublas.so.10: cannot open shared object file: No such file or directory"
     ]
    }
   ],
   "source": [
    "import cupy as cp\n",
    "cp.__version__"
   ]
  },
  {
   "cell_type": "code",
   "execution_count": 5,
   "id": "d96eb689-dc09-4f44-ab13-074a803724ad",
   "metadata": {},
   "outputs": [],
   "source": [
    "import dask.array as dsa"
   ]
  },
  {
   "cell_type": "code",
   "execution_count": 6,
   "id": "e0a7d073-c150-427b-b70d-849f1749506d",
   "metadata": {},
   "outputs": [
    {
     "data": {
      "text/plain": [
       "'0.1'"
      ]
     },
     "execution_count": 6,
     "metadata": {},
     "output_type": "execute_result"
    }
   ],
   "source": [
    "import gcm_filters as gf\n",
    "gf.__version__"
   ]
  },
  {
   "cell_type": "code",
   "execution_count": 7,
   "id": "6d8267db-a143-4381-950a-be5bf506de1c",
   "metadata": {},
   "outputs": [],
   "source": [
    "from contextlib import contextmanager\n",
    "import time\n",
    "import pandas as pd\n",
    "\n",
    "class DiagnosticTimer:\n",
    "    def __init__(self):\n",
    "        self.diagnostics = []\n",
    "\n",
    "    @contextmanager\n",
    "    def time(self, **kwargs):\n",
    "        tic = time.time()\n",
    "        yield\n",
    "        toc = time.time()\n",
    "        kwargs[\"runtime\"] = toc - tic\n",
    "        self.diagnostics.append(kwargs)\n",
    "\n",
    "    @property\n",
    "    def df(self):\n",
    "        return pd.DataFrame(self.diagnostics)"
   ]
  },
  {
   "cell_type": "code",
   "execution_count": 8,
   "id": "16a92dfc-fc2e-4894-b1b1-895cc67af353",
   "metadata": {},
   "outputs": [],
   "source": [
    "def make_data(shape, chunks, gpu=False):\n",
    "    nt, ny, nx = shape\n",
    "    da = xr.DataArray(dsa.random.random(shape, chunks=chunks), dims=['time', 'y', 'x'])\n",
    "    mask_data = dsa.ones((ny, nx))\n",
    "    mask_data[(ny // 4):(3 * ny // 4), (nx // 4):(3 * nx // 4)] = 0\n",
    "    wet_mask = xr.DataArray(mask_data, dims=['y', 'x'])\n",
    "    \n",
    "    da_masked = da.where(wet_mask)\n",
    "    \n",
    "    if gpu:\n",
    "        raise NotImplementedError(\"Can't get cupy working :(\")\n",
    "\n",
    "    filter = gf.Filter(\n",
    "        filter_scale=4,\n",
    "        dx_min=1,\n",
    "        filter_shape=gf.FilterShape.TAPER,\n",
    "        grid_type=gf.GridType.REGULAR_WITH_LAND,\n",
    "        grid_vars={'wet_mask': wet_mask}\n",
    "    )\n",
    "    filter\n",
    "\n",
    "    da_filtered = filter.apply(da_masked, dims=['y', 'x'])\n",
    "    return da_masked, da_filtered"
   ]
  },
  {
   "cell_type": "code",
   "execution_count": 9,
   "id": "8c594e24-9cbd-4517-a4f1-f992c8108675",
   "metadata": {},
   "outputs": [],
   "source": [
    "from dask.distributed import Client, LocalCluster"
   ]
  },
  {
   "cell_type": "code",
   "execution_count": 10,
   "id": "21f48010-763f-41f3-987d-dafd38d24054",
   "metadata": {},
   "outputs": [
    {
     "name": "stdout",
     "output_type": "stream",
     "text": [
      "         operation  ncores  nworkers              shape            chunks  \\\n",
      "0  unfiltered_mean       1         1  (360, 1024, 1024)  (10, 1024, 1024)   \n",
      "1    filtered_mean       1         1  (360, 1024, 1024)  (10, 1024, 1024)   \n",
      "\n",
      "       nbytes    dtype     runtime  \n",
      "0  3019898880  float64    5.003284  \n",
      "1  3019898880  float64  274.039091  \n",
      "         operation  ncores  nworkers              shape            chunks  \\\n",
      "2  unfiltered_mean       9         9  (360, 1024, 1024)  (10, 1024, 1024)   \n",
      "3    filtered_mean       9         9  (360, 1024, 1024)  (10, 1024, 1024)   \n",
      "\n",
      "       nbytes    dtype    runtime  \n",
      "2  3019898880  float64   0.775494  \n",
      "3  3019898880  float64  36.032485  \n",
      "         operation  ncores  nworkers              shape            chunks  \\\n",
      "4  unfiltered_mean      18        18  (360, 1024, 1024)  (10, 1024, 1024)   \n",
      "5    filtered_mean      18        18  (360, 1024, 1024)  (10, 1024, 1024)   \n",
      "\n",
      "       nbytes    dtype    runtime  \n",
      "4  3019898880  float64   0.501118  \n",
      "5  3019898880  float64  20.173028  \n",
      "         operation  ncores  nworkers              shape            chunks  \\\n",
      "6  unfiltered_mean      27        27  (360, 1024, 1024)  (10, 1024, 1024)   \n",
      "7    filtered_mean      27        27  (360, 1024, 1024)  (10, 1024, 1024)   \n",
      "\n",
      "       nbytes    dtype    runtime  \n",
      "6  3019898880  float64   0.502319  \n",
      "7  3019898880  float64  20.222078  \n",
      "         operation  ncores  nworkers              shape            chunks  \\\n",
      "8  unfiltered_mean      36        36  (360, 1024, 1024)  (10, 1024, 1024)   \n",
      "9    filtered_mean      36        36  (360, 1024, 1024)  (10, 1024, 1024)   \n",
      "\n",
      "       nbytes    dtype    runtime  \n",
      "8  3019898880  float64   0.410367  \n",
      "9  3019898880  float64  16.232556  \n",
      "          operation  ncores  nworkers              shape            chunks  \\\n",
      "10  unfiltered_mean       3         1  (360, 1024, 1024)  (10, 1024, 1024)   \n",
      "11    filtered_mean       3         1  (360, 1024, 1024)  (10, 1024, 1024)   \n",
      "\n",
      "        nbytes    dtype     runtime  \n",
      "10  3019898880  float64    1.887579  \n",
      "11  3019898880  float64  101.077073  \n",
      "          operation  ncores  nworkers              shape            chunks  \\\n",
      "12  unfiltered_mean       9         3  (360, 1024, 1024)  (10, 1024, 1024)   \n",
      "13    filtered_mean       9         3  (360, 1024, 1024)  (10, 1024, 1024)   \n",
      "\n",
      "        nbytes    dtype    runtime  \n",
      "12  3019898880  float64   0.796294  \n",
      "13  3019898880  float64  35.911108  \n",
      "          operation  ncores  nworkers              shape            chunks  \\\n",
      "14  unfiltered_mean      18         6  (360, 1024, 1024)  (10, 1024, 1024)   \n",
      "15    filtered_mean      18         6  (360, 1024, 1024)  (10, 1024, 1024)   \n",
      "\n",
      "        nbytes    dtype    runtime  \n",
      "14  3019898880  float64   0.532134  \n",
      "15  3019898880  float64  20.215708  \n",
      "          operation  ncores  nworkers              shape            chunks  \\\n",
      "16  unfiltered_mean      27         9  (360, 1024, 1024)  (10, 1024, 1024)   \n",
      "17    filtered_mean      27         9  (360, 1024, 1024)  (10, 1024, 1024)   \n",
      "\n",
      "        nbytes    dtype    runtime  \n",
      "16  3019898880  float64   0.537369  \n",
      "17  3019898880  float64  20.216138  \n",
      "          operation  ncores  nworkers              shape            chunks  \\\n",
      "18  unfiltered_mean      36        12  (360, 1024, 1024)  (10, 1024, 1024)   \n",
      "19    filtered_mean      36        12  (360, 1024, 1024)  (10, 1024, 1024)   \n",
      "\n",
      "        nbytes    dtype    runtime  \n",
      "18  3019898880  float64   0.366579  \n",
      "19  3019898880  float64  16.353379  \n",
      "          operation  ncores  nworkers              shape            chunks  \\\n",
      "20  unfiltered_mean       9         1  (360, 1024, 1024)  (10, 1024, 1024)   \n",
      "21    filtered_mean       9         1  (360, 1024, 1024)  (10, 1024, 1024)   \n",
      "\n",
      "        nbytes    dtype    runtime  \n",
      "20  3019898880  float64   0.818160  \n",
      "21  3019898880  float64  38.190873  \n",
      "          operation  ncores  nworkers              shape            chunks  \\\n",
      "22  unfiltered_mean       9         1  (360, 1024, 1024)  (10, 1024, 1024)   \n",
      "23    filtered_mean       9         1  (360, 1024, 1024)  (10, 1024, 1024)   \n",
      "\n",
      "        nbytes    dtype    runtime  \n",
      "22  3019898880  float64   0.693285  \n",
      "23  3019898880  float64  38.414746  \n",
      "          operation  ncores  nworkers              shape            chunks  \\\n",
      "24  unfiltered_mean      18         2  (360, 1024, 1024)  (10, 1024, 1024)   \n",
      "25    filtered_mean      18         2  (360, 1024, 1024)  (10, 1024, 1024)   \n",
      "\n",
      "        nbytes    dtype    runtime  \n",
      "24  3019898880  float64   0.498586  \n",
      "25  3019898880  float64  21.168532  \n",
      "          operation  ncores  nworkers              shape            chunks  \\\n",
      "26  unfiltered_mean      27         3  (360, 1024, 1024)  (10, 1024, 1024)   \n",
      "27    filtered_mean      27         3  (360, 1024, 1024)  (10, 1024, 1024)   \n",
      "\n",
      "        nbytes    dtype    runtime  \n",
      "26  3019898880  float64   0.420686  \n",
      "27  3019898880  float64  21.195548  \n",
      "          operation  ncores  nworkers              shape            chunks  \\\n",
      "28  unfiltered_mean      36         4  (360, 1024, 1024)  (10, 1024, 1024)   \n",
      "29    filtered_mean      36         4  (360, 1024, 1024)  (10, 1024, 1024)   \n",
      "\n",
      "        nbytes    dtype   runtime  \n",
      "28  3019898880  float64   0.37074  \n",
      "29  3019898880  float64  16.11008  \n"
     ]
    }
   ],
   "source": [
    "# strong scaling - problem size stays the same\n",
    "\n",
    "shape = 360, 1024, 1024\n",
    "chunks = (10,) + shape[1:]\n",
    "\n",
    "unfiltered, filtered = make_data(shape, chunks)\n",
    "\n",
    "diag_timer_strong = DiagnosticTimer()\n",
    "\n",
    "for threads_per_worker in [1, 3, 9]:\n",
    "    max_workers = 36 // threads_per_worker\n",
    "    worker_step = max_workers // 4\n",
    "    cluster = LocalCluster(threads_per_worker=threads_per_worker, n_workers=1)\n",
    "    client = Client(cluster)\n",
    "    for nworkers in [1] + list(range(worker_step, max_workers + 1, worker_step)):\n",
    "        cluster.scale(nworkers)\n",
    "        client.wait_for_workers(nworkers)\n",
    "        assert len(client.ncores()) == nworkers\n",
    "        ncores = sum(client.ncores().values())\n",
    "        details = dict(ncores=ncores, nworkers=nworkers, shape=shape, chunks=chunks,\n",
    "                       nbytes=filtered.data.nbytes, dtype=str(filtered.dtype))\n",
    "        with diag_timer_strong.time(operation='unfiltered_mean', **details):\n",
    "            unfiltered.data.mean().compute()\n",
    "        with diag_timer_strong.time(operation='filtered_mean', **details):\n",
    "            filtered.data.mean().compute()\n",
    "        print(diag_timer_strong.df.iloc[-2:])\n",
    "    client.close()\n",
    "    cluster.close()"
   ]
  },
  {
   "cell_type": "code",
   "execution_count": 11,
   "id": "836dc719-85ad-4521-a915-365c710145e7",
   "metadata": {},
   "outputs": [
    {
     "name": "stdout",
     "output_type": "stream",
     "text": [
      "         operation  ncores  nworkers             shape            chunks  \\\n",
      "0  unfiltered_mean       1         1  (40, 1024, 1024)  (10, 1024, 1024)   \n",
      "1    filtered_mean       1         1  (40, 1024, 1024)  (10, 1024, 1024)   \n",
      "\n",
      "      nbytes    dtype    runtime  \n",
      "0  335544320  float64   0.644294  \n",
      "1  335544320  float64  30.876005  \n",
      "         operation  ncores  nworkers              shape            chunks  \\\n",
      "2  unfiltered_mean       9         9  (360, 1024, 1024)  (10, 1024, 1024)   \n",
      "3    filtered_mean       9         9  (360, 1024, 1024)  (10, 1024, 1024)   \n",
      "\n",
      "       nbytes    dtype    runtime  \n",
      "2  3019898880  float64   0.894022  \n",
      "3  3019898880  float64  34.990347  \n",
      "         operation  ncores  nworkers              shape            chunks  \\\n",
      "4  unfiltered_mean      18        18  (720, 1024, 1024)  (10, 1024, 1024)   \n",
      "5    filtered_mean      18        18  (720, 1024, 1024)  (10, 1024, 1024)   \n",
      "\n",
      "       nbytes    dtype    runtime  \n",
      "4  6039797760  float64   0.846153  \n",
      "5  6039797760  float64  39.765866  \n",
      "         operation  ncores  nworkers               shape            chunks  \\\n",
      "6  unfiltered_mean      27        27  (1080, 1024, 1024)  (10, 1024, 1024)   \n",
      "7    filtered_mean      27        27  (1080, 1024, 1024)  (10, 1024, 1024)   \n",
      "\n",
      "       nbytes    dtype    runtime  \n",
      "6  9059696640  float64   0.881723  \n",
      "7  9059696640  float64  47.830872  \n",
      "         operation  ncores  nworkers               shape            chunks  \\\n",
      "8  unfiltered_mean      36        36  (1440, 1024, 1024)  (10, 1024, 1024)   \n",
      "9    filtered_mean      36        36  (1440, 1024, 1024)  (10, 1024, 1024)   \n",
      "\n",
      "        nbytes    dtype    runtime  \n",
      "8  12079595520  float64   1.029293  \n",
      "9  12079595520  float64  62.933786  \n",
      "          operation  ncores  nworkers              shape            chunks  \\\n",
      "10  unfiltered_mean       3         1  (120, 1024, 1024)  (10, 1024, 1024)   \n",
      "11    filtered_mean       3         1  (120, 1024, 1024)  (10, 1024, 1024)   \n",
      "\n",
      "        nbytes    dtype    runtime  \n",
      "10  1006632960  float64   0.731630  \n",
      "11  1006632960  float64  32.860983  \n",
      "          operation  ncores  nworkers              shape            chunks  \\\n",
      "12  unfiltered_mean       9         3  (360, 1024, 1024)  (10, 1024, 1024)   \n",
      "13    filtered_mean       9         3  (360, 1024, 1024)  (10, 1024, 1024)   \n",
      "\n",
      "        nbytes    dtype    runtime  \n",
      "12  3019898880  float64   0.762854  \n",
      "13  3019898880  float64  36.184138  \n",
      "          operation  ncores  nworkers              shape            chunks  \\\n",
      "14  unfiltered_mean      18         6  (720, 1024, 1024)  (10, 1024, 1024)   \n",
      "15    filtered_mean      18         6  (720, 1024, 1024)  (10, 1024, 1024)   \n",
      "\n",
      "        nbytes    dtype    runtime  \n",
      "14  6039797760  float64   0.873421  \n",
      "15  6039797760  float64  39.912544  \n",
      "          operation  ncores  nworkers               shape            chunks  \\\n",
      "16  unfiltered_mean      27         9  (1080, 1024, 1024)  (10, 1024, 1024)   \n",
      "17    filtered_mean      27         9  (1080, 1024, 1024)  (10, 1024, 1024)   \n",
      "\n",
      "        nbytes    dtype    runtime  \n",
      "16  9059696640  float64   0.898626  \n",
      "17  9059696640  float64  48.970044  \n",
      "          operation  ncores  nworkers               shape            chunks  \\\n",
      "18  unfiltered_mean      36        12  (1440, 1024, 1024)  (10, 1024, 1024)   \n",
      "19    filtered_mean      36        12  (1440, 1024, 1024)  (10, 1024, 1024)   \n",
      "\n",
      "         nbytes    dtype    runtime  \n",
      "18  12079595520  float64   1.001134  \n",
      "19  12079595520  float64  63.513281  \n",
      "          operation  ncores  nworkers              shape            chunks  \\\n",
      "20  unfiltered_mean       9         1  (360, 1024, 1024)  (10, 1024, 1024)   \n",
      "21    filtered_mean       9         1  (360, 1024, 1024)  (10, 1024, 1024)   \n",
      "\n",
      "        nbytes    dtype    runtime  \n",
      "20  3019898880  float64   0.812508  \n",
      "21  3019898880  float64  38.802845  \n",
      "          operation  ncores  nworkers              shape            chunks  \\\n",
      "22  unfiltered_mean       9         1  (360, 1024, 1024)  (10, 1024, 1024)   \n",
      "23    filtered_mean       9         1  (360, 1024, 1024)  (10, 1024, 1024)   \n",
      "\n",
      "        nbytes    dtype    runtime  \n",
      "22  3019898880  float64   0.689096  \n",
      "23  3019898880  float64  37.911038  \n",
      "          operation  ncores  nworkers              shape            chunks  \\\n",
      "24  unfiltered_mean      18         2  (720, 1024, 1024)  (10, 1024, 1024)   \n",
      "25    filtered_mean      18         2  (720, 1024, 1024)  (10, 1024, 1024)   \n",
      "\n",
      "        nbytes    dtype    runtime  \n",
      "24  6039797760  float64   0.875995  \n",
      "25  6039797760  float64  42.638128  \n",
      "          operation  ncores  nworkers               shape            chunks  \\\n",
      "26  unfiltered_mean      27         3  (1080, 1024, 1024)  (10, 1024, 1024)   \n",
      "27    filtered_mean      27         3  (1080, 1024, 1024)  (10, 1024, 1024)   \n",
      "\n",
      "        nbytes    dtype    runtime  \n",
      "26  9059696640  float64   0.936378  \n",
      "27  9059696640  float64  50.105343  \n",
      "          operation  ncores  nworkers               shape            chunks  \\\n",
      "28  unfiltered_mean      36         4  (1440, 1024, 1024)  (10, 1024, 1024)   \n",
      "29    filtered_mean      36         4  (1440, 1024, 1024)  (10, 1024, 1024)   \n",
      "\n",
      "         nbytes    dtype    runtime  \n",
      "28  12079595520  float64   1.381544  \n",
      "29  12079595520  float64  64.224654  \n"
     ]
    }
   ],
   "source": [
    "# weak scaling - problem size stays the same\n",
    "\n",
    "diag_timer_weak = DiagnosticTimer()\n",
    "\n",
    "for threads_per_worker in [1, 3, 9]:\n",
    "    max_workers = 36 // threads_per_worker\n",
    "    worker_step = max_workers // 4\n",
    "    cluster = LocalCluster(threads_per_worker=threads_per_worker, n_workers=1)\n",
    "    client = Client(cluster)\n",
    "    for nworkers in [1] + list(range(worker_step, max_workers + 1, worker_step)):\n",
    "        cluster.scale(nworkers)\n",
    "        client.wait_for_workers(nworkers)\n",
    "        assert len(client.ncores()) == nworkers\n",
    "        ncores = sum(client.ncores().values())\n",
    "        \n",
    "        shape = ncores * 10 * 4, 1024, 1024\n",
    "        chunks = (10,) + shape[1:]\n",
    "        unfiltered, filtered = make_data(shape, chunks)\n",
    "\n",
    "        details = dict(ncores=ncores, nworkers=nworkers, shape=shape, chunks=chunks,\n",
    "                       nbytes=filtered.data.nbytes, dtype=str(filtered.dtype))\n",
    "        with diag_timer_weak.time(operation='unfiltered_mean', **details):\n",
    "            unfiltered.data.mean().compute()\n",
    "        with diag_timer_weak.time(operation='filtered_mean', **details):\n",
    "            filtered.data.mean().compute()\n",
    "        print(diag_timer_weak.df.iloc[-2:])\n",
    "    client.close()\n",
    "    cluster.close()"
   ]
  },
  {
   "cell_type": "code",
   "execution_count": 12,
   "id": "d4e940ed-8242-4a97-80d3-4df90cdf25b0",
   "metadata": {},
   "outputs": [],
   "source": [
    "from datetime import datetime\n",
    "\n",
    "now = datetime.now().isoformat()[:19]\n",
    "diag_timer_weak.df.to_csv(f'data/scaling_weak_cpu_{now}.csv', index=False)\n",
    "diag_timer_strong.df.to_csv(f'data/scaling_strong_cpu_{now}.csv', index=False)"
   ]
  },
  {
   "cell_type": "code",
   "execution_count": null,
   "id": "4f1def09-9b6f-4de2-b475-a8e2770f0e68",
   "metadata": {},
   "outputs": [],
   "source": []
  }
 ],
 "metadata": {
  "kernelspec": {
   "display_name": "NPL3 (my_npl_clone)",
   "language": "python",
   "name": "npl3-my_npl_clone"
  },
  "language_info": {
   "codemirror_mode": {
    "name": "ipython",
    "version": 3
   },
   "file_extension": ".py",
   "mimetype": "text/x-python",
   "name": "python",
   "nbconvert_exporter": "python",
   "pygments_lexer": "ipython3",
   "version": "3.7.5"
  }
 },
 "nbformat": 4,
 "nbformat_minor": 5
}
